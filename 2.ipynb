{
 "cells": [
  {
   "cell_type": "markdown",
   "metadata": {},
   "source": [
    "## 2) Análisis de sentimiento en Opiniones de Películas\n",
    "\n",
    "En esta sección se busca extraer información acerca de la actitud de una persona, mediante evaluaciones escritas de películas, donde la opinión puede ser positiva, negativa o neutral. La dificultad radica en que el lenguaje usado es muy ambiguo en informal, como las personas naturalmente se expresan, por lo que negaciones, sarcasmo y abreviaciones deben ser tratadas con cuidado.\n",
    "\n",
    "Los datos fueron publicados en Kaggle, y cada registro corresponde a una opinión sobre una película en la forma de un texto. Las clases son positiva y negativa, o 1 y 0, no se considera una clase neutra. Los vectores de características a usar son la frecuencia de cada palabra del vocabulario en una opinión. "
   ]
  },
  {
   "cell_type": "markdown",
   "metadata": {},
   "source": [
    "### a) Dataframe y exploración\n",
    "\n",
    "Se descarga el dataset, se construye el DataFrame, para luego explorar los datos."
   ]
  },
  {
   "cell_type": "code",
   "execution_count": 13,
   "metadata": {},
   "outputs": [],
   "source": [
    "import urllib.request as urllib\n",
    "import pandas as pd\n",
    "\n",
    "train_data_url = \"http://www.inf.utfsm.cl/~jnancu/stanford-subset/polarity.train\"\n",
    "test_data_url = \"http://www.inf.utfsm.cl/~jnancu/stanford-subset/polarity.dev\"\n",
    "train_data_f = urllib.urlretrieve(train_data_url, \"train_data.csv\")\n",
    "test_data_f = urllib.urlretrieve(test_data_url, \"test_data.csv\")\n",
    "ftr = open(\"train_data.csv\", \"r\", encoding=\"latin-1\")\n",
    "fts = open(\"test_data.csv\", \"r\", encoding=\"latin-1\")\n",
    "rows = [line.split(\" \",1) for line in ftr.readlines()]\n",
    "train_df = pd.DataFrame(rows, columns=['Sentiment','Text'])\n",
    "train_df['Sentiment'] = pd.to_numeric(train_df['Sentiment'])\n",
    "rows = [line.split(\" \",1) for line in fts.readlines()]\n",
    "test_df = pd.DataFrame(rows, columns=['Sentiment','Text'])\n",
    "test_df['Sentiment'] = pd.to_numeric(test_df['Sentiment'])"
   ]
  },
  {
   "cell_type": "code",
   "execution_count": 33,
   "metadata": {},
   "outputs": [
    {
     "name": "stdout",
     "output_type": "stream",
     "text": [
      "Reviews positivas conjunto de entrenamiento: 1770\n",
      "Reviews negativas conjunto de entrenamiento: 1784\n"
     ]
    },
    {
     "data": {
      "text/html": [
       "<div>\n",
       "<style>\n",
       "    .dataframe thead tr:only-child th {\n",
       "        text-align: right;\n",
       "    }\n",
       "\n",
       "    .dataframe thead th {\n",
       "        text-align: left;\n",
       "    }\n",
       "\n",
       "    .dataframe tbody tr th {\n",
       "        vertical-align: top;\n",
       "    }\n",
       "</style>\n",
       "<table border=\"1\" class=\"dataframe\">\n",
       "  <thead>\n",
       "    <tr style=\"text-align: right;\">\n",
       "      <th></th>\n",
       "      <th>Sentiment</th>\n",
       "      <th>Text</th>\n",
       "    </tr>\n",
       "  </thead>\n",
       "  <tbody>\n",
       "    <tr>\n",
       "      <th>0</th>\n",
       "      <td>-1</td>\n",
       "      <td>everything's serious , poetic , earnest and --...</td>\n",
       "    </tr>\n",
       "    <tr>\n",
       "      <th>1</th>\n",
       "      <td>-1</td>\n",
       "      <td>narratively , trouble every day is a plodding ...</td>\n",
       "    </tr>\n",
       "    <tr>\n",
       "      <th>2</th>\n",
       "      <td>1</td>\n",
       "      <td>a truly wonderful tale combined with stunning ...</td>\n",
       "    </tr>\n",
       "    <tr>\n",
       "      <th>3</th>\n",
       "      <td>1</td>\n",
       "      <td>jason patric and ray liotta make for one splen...</td>\n",
       "    </tr>\n",
       "    <tr>\n",
       "      <th>4</th>\n",
       "      <td>-1</td>\n",
       "      <td>haneke keeps us at arm's length . guided more ...</td>\n",
       "    </tr>\n",
       "  </tbody>\n",
       "</table>\n",
       "</div>"
      ],
      "text/plain": [
       "   Sentiment                                               Text\n",
       "0         -1  everything's serious , poetic , earnest and --...\n",
       "1         -1  narratively , trouble every day is a plodding ...\n",
       "2          1  a truly wonderful tale combined with stunning ...\n",
       "3          1  jason patric and ray liotta make for one splen...\n",
       "4         -1  haneke keeps us at arm's length . guided more ..."
      ]
     },
     "execution_count": 33,
     "metadata": {},
     "output_type": "execute_result"
    }
   ],
   "source": [
    "import matplotlib.pyplot as plt\n",
    "\n",
    "print(\"Reviews positivas conjunto de entrenamiento: \" + str(len(train_df.values[train_df.values == 1])))\n",
    "print(\"Reviews negativas conjunto de entrenamiento: \" + str(len(train_df.values[train_df.values == -1])))\n",
    "train_df.head()"
   ]
  },
  {
   "cell_type": "code",
   "execution_count": 32,
   "metadata": {},
   "outputs": [
    {
     "name": "stdout",
     "output_type": "stream",
     "text": [
      "Reviews positivas conjunto de pruebas: 1751\n",
      "Reviews negativas conjunto de pruebas: 1803\n"
     ]
    },
    {
     "data": {
      "text/html": [
       "<div>\n",
       "<style>\n",
       "    .dataframe thead tr:only-child th {\n",
       "        text-align: right;\n",
       "    }\n",
       "\n",
       "    .dataframe thead th {\n",
       "        text-align: left;\n",
       "    }\n",
       "\n",
       "    .dataframe tbody tr th {\n",
       "        vertical-align: top;\n",
       "    }\n",
       "</style>\n",
       "<table border=\"1\" class=\"dataframe\">\n",
       "  <thead>\n",
       "    <tr style=\"text-align: right;\">\n",
       "      <th></th>\n",
       "      <th>Sentiment</th>\n",
       "      <th>Text</th>\n",
       "    </tr>\n",
       "  </thead>\n",
       "  <tbody>\n",
       "    <tr>\n",
       "      <th>0</th>\n",
       "      <td>-1</td>\n",
       "      <td>screenwriter dan schneider and director shawn ...</td>\n",
       "    </tr>\n",
       "    <tr>\n",
       "      <th>1</th>\n",
       "      <td>-1</td>\n",
       "      <td>home alone goes hollywood , a funny premise un...</td>\n",
       "    </tr>\n",
       "    <tr>\n",
       "      <th>2</th>\n",
       "      <td>1</td>\n",
       "      <td>seldom has a movie so closely matched the spir...</td>\n",
       "    </tr>\n",
       "    <tr>\n",
       "      <th>3</th>\n",
       "      <td>-1</td>\n",
       "      <td>less dizzying than just dizzy , the jaunt is p...</td>\n",
       "    </tr>\n",
       "    <tr>\n",
       "      <th>4</th>\n",
       "      <td>-1</td>\n",
       "      <td>an ultra-low-budget indie debut that smacks mo...</td>\n",
       "    </tr>\n",
       "  </tbody>\n",
       "</table>\n",
       "</div>"
      ],
      "text/plain": [
       "   Sentiment                                               Text\n",
       "0         -1  screenwriter dan schneider and director shawn ...\n",
       "1         -1  home alone goes hollywood , a funny premise un...\n",
       "2          1  seldom has a movie so closely matched the spir...\n",
       "3         -1  less dizzying than just dizzy , the jaunt is p...\n",
       "4         -1  an ultra-low-budget indie debut that smacks mo..."
      ]
     },
     "execution_count": 32,
     "metadata": {},
     "output_type": "execute_result"
    }
   ],
   "source": [
    "print(\"Reviews positivas conjunto de pruebas: \" + str(len(test_df.values[test_df.values == 1])))\n",
    "print(\"Reviews negativas conjunto de pruebas: \" + str(len(test_df.values[test_df.values == -1])))\n",
    "test_df.head()"
   ]
  },
  {
   "cell_type": "markdown",
   "metadata": {},
   "source": [
    "Se pueden considerar las clases como balanceadas en ámbos conjuntos, por lo que no es necesario realizar un remuestreo. También se observa que el largo de los reviews varía, algunos poseen signos de puntuación y/o palabras en un idioma distinto al inglés.\n",
    "\n",
    "A continuación se importa y descarga la librería de procesamiento de lenguaje natural que se utilizará en esta sección. "
   ]
  },
  {
   "cell_type": "code",
   "execution_count": 34,
   "metadata": {},
   "outputs": [
    {
     "name": "stdout",
     "output_type": "stream",
     "text": [
      "showing info https://raw.githubusercontent.com/nltk/nltk_data/gh-pages/index.xml\n"
     ]
    },
    {
     "data": {
      "text/plain": [
       "True"
      ]
     },
     "execution_count": 34,
     "metadata": {},
     "output_type": "execute_result"
    }
   ],
   "source": [
    "import nltk\n",
    "nltk.download()"
   ]
  },
  {
   "cell_type": "code",
   "execution_count": null,
   "metadata": {
    "collapsed": true
   },
   "outputs": [],
   "source": []
  },
  {
   "cell_type": "markdown",
   "metadata": {},
   "source": [
    "### b) Preprocesamiento\n",
    "\n",
    "En esta parte, se realiza el preprocesamiento necesario para mejorar en lo posible el desempeño de los clasificadores. El paso que todos los extractores de palabras que se definen comparten es transformar todo el texto a minúscula. Luego, según el extractor y los parámetros, se eliminan las *stop words* de los reviews, y se hace stemming o lematización.\n",
    "\n",
    "Stemming y lematización son similares, en el sentido de que ámbos buscan llevar las palabras a sus raíces morfológicas, o alguna otra forma común. La diferencia es que stemming es una heurística cruda que simplemente trunca las palabras, esperando obtener el resultado correcto. Lematización usa un vocabulario y análisis morfolófico para encontrar la forma de diccionario de las palabras, o *lemma*.\n",
    "\n",
    "A continuación se implementa el extractor de palabras con stemming y sin stemming (solo minúscula), usando la librería ntlk."
   ]
  },
  {
   "cell_type": "code",
   "execution_count": 90,
   "metadata": {},
   "outputs": [],
   "source": [
    "import re, time\n",
    "from nltk.book import *\n",
    "from nltk import sent_tokenize, word_tokenize, pos_tag\n",
    "from nltk.corpus import stopwords\n",
    "from nltk import WordNetLemmatizer, word_tokenize\n",
    "from nltk.stem.porter import PorterStemmer\n",
    "\n",
    "# lower case + stemming\n",
    "def word_extractor(text, stop_words=True):\n",
    "    ps = PorterStemmer()\n",
    "    text = re.sub(r'([a-z])\\1+', r'\\1\\1',text)\n",
    "    words = \"\"\n",
    "    wordtokens = [ ps.stem(word.lower()) \\\n",
    "                for word in word_tokenize(text) ]\n",
    "    if(stop_words):\n",
    "        commonwords = stopwords.words('english')\n",
    "        commonwords.remove(\"not\")\n",
    "        for word in wordtokens:\n",
    "            if word not in commonwords:\n",
    "                    words+=\" \"+word\n",
    "    else:\n",
    "        for word in wordtokens:\n",
    "            words+=\" \"+word\n",
    "    return words\n",
    "\n",
    "# only lower case\n",
    "def word_extractorbis(text):\n",
    "    ps = PorterStemmer()\n",
    "    commonwords = stopwords.words('english')\n",
    "    commonwords.remove(\"not\")\n",
    "    text = re.sub(r'([a-z])\\1+', r'\\1\\1',text)\n",
    "    words = \"\"\n",
    "    wordtokens = [ word.lower() \\\n",
    "                for word in word_tokenize(text) ]\n",
    "    for word in wordtokens:\n",
    "        if word not in commonwords:\n",
    "                words+=\" \"+word\n",
    "    return words"
   ]
  },
  {
   "cell_type": "markdown",
   "metadata": {},
   "source": [
    "Algunos ejemplos de cómo funciona cada extractor a continuación."
   ]
  },
  {
   "cell_type": "code",
   "execution_count": 80,
   "metadata": {},
   "outputs": [
    {
     "name": "stdout",
     "output_type": "stream",
     "text": [
      "* Examples with lower case only\n",
      "\n",
      " ( love ) ? eat cake\n",
      " love eating cake\n",
      " loved eating cake\n",
      " not love eating cake\n",
      "\n",
      "* Examples with lower case + stemming\n",
      "\n",
      " ( love ) ? , eat cake ?\n",
      " love eat cake\n",
      " love eat cake\n",
      " not love eat cake\n",
      "\n",
      "* Text with lower case only\n",
      "\n",
      " many people quickly became stunned saw black-clothed young man suddenly appear wall . moment later , wild joy abruptly surged . many different forms addresses suddenly reverberated fortress . although young man appeared matured couple years , extremely familiar face still recognized many people instant .\n",
      "\n",
      "* Text with lower case + stemming\n",
      "\n",
      " mani peopl quickli becam stun saw black-cloth young man suddenli appear wall . moment later , wild joy abruptli surg . mani differ form address suddenli reverber fortress . although young man appear matur coupl year , hi extrem familiar face wa still recogn mani peopl instant .\n"
     ]
    }
   ],
   "source": [
    "print(\"* Examples with lower case only\\n\")\n",
    "print(word_extractorbis(\"I (LOve) to? eat cake\"))\n",
    "print(word_extractorbis(\"I love eating cake\"))\n",
    "print(word_extractorbis(\"I loved eating the cake\"))\n",
    "print(word_extractorbis(\"I do not love eating cake\"))\n",
    "\n",
    "print(\"\\n* Examples with lower case + stemming\\n\")\n",
    "print(word_extractor(\"I (LOve) to?, eat cake ?\"))\n",
    "print(word_extractor(\"I love eating cake\"))\n",
    "print(word_extractor(\"I loved eating the cake\"))\n",
    "print(word_extractor(\"I do not love eating cake\"))\n",
    "\n",
    "text_1 = \"Many people quickly became stunned when they saw the black-clothed young man suddenly appear on the wall. A moment later, a wild joy abruptly surged. Many different forms of addresses suddenly reverberated over the fortress. Although the young man appeared to have matured after a couple of years, his extremely familiar face was still recognized by many people in an instant.\"\n",
    "print(\"\\n* Text with lower case only\\n\")\n",
    "print(word_extractorbis(text_1))\n",
    "\n",
    "print(\"\\n* Text with lower case + stemming\\n\")\n",
    "print(word_extractor(text_1))"
   ]
  },
  {
   "cell_type": "markdown",
   "metadata": {},
   "source": [
    "Se observa que efectivamente stemming trunca algunas palabras (lleva los verbos a su infinitivo), como \"eating\" a \"eat\". En el caso del texto, se observan algunos problemas, como \"many\" a \"mani\", y en general, todas las palabras terminadas en \"y\". "
   ]
  },
  {
   "cell_type": "markdown",
   "metadata": {},
   "source": [
    "### c) Lemmatizer\n",
    "\n",
    "Ahora se implementa el mismo extractor, pero usando el Lemmatizer de la librería nltk. Luego se comparan los mismos ejemplos de la pregunta anterior. El argumento *stop words* indica si se deben eliminar las stopwords de los vectores o no."
   ]
  },
  {
   "cell_type": "code",
   "execution_count": 89,
   "metadata": {},
   "outputs": [],
   "source": [
    "def word_extractor2(text, stop_words=True):\n",
    "    wordlemmatizer = WordNetLemmatizer()\n",
    "    text = re.sub(r'([a-z])\\1+', r'\\1\\1',text)\n",
    "    words = \"\"\n",
    "    wordtokens = [ wordlemmatizer.lemmatize(word.lower()) \\\n",
    "                  for word in word_tokenize(text)]\n",
    "    if(stop_words):\n",
    "        commonwords = stopwords.words('english')\n",
    "        commonwords.remove(\"not\")\n",
    "        for word in wordtokens:\n",
    "            if word not in commonwords:\n",
    "                words+=\" \"+word\n",
    "    else:\n",
    "        for word in wordtokens:\n",
    "            words+=\" \"+word\n",
    "    return words "
   ]
  },
  {
   "cell_type": "code",
   "execution_count": 88,
   "metadata": {},
   "outputs": [
    {
     "name": "stdout",
     "output_type": "stream",
     "text": [
      "* Examples with lower case only\n",
      "\n",
      " ( love ) ? eat cake\n",
      " love eating cake\n",
      " loved eating cake\n",
      " not love eating cake\n",
      "\n",
      "* Examples with lower case + stemming\n",
      "\n",
      " ( love ) ? , eat cake ?\n",
      " love eat cake\n",
      " love eat cake\n",
      " not love eat cake\n",
      "\n",
      "* Examples with lower case + lemmatization\n",
      "\n",
      " ( love ) ? , eat cake ?\n",
      " love eating cake\n",
      " loved eating cake\n",
      " not love eating cake\n",
      "\n",
      "* Text with lower case only\n",
      "\n",
      " many people quickly became stunned saw black-clothed young man suddenly appear wall . moment later , wild joy abruptly surged . many different forms addresses suddenly reverberated fortress . although young man appeared matured couple years , extremely familiar face still recognized many people instant .\n",
      "\n",
      "* Text with lower case + stemming\n",
      "\n",
      " mani peopl quickli becam stun saw black-cloth young man suddenli appear wall . moment later , wild joy abruptli surg . mani differ form address suddenli reverber fortress . although young man appear matur coupl year , hi extrem familiar face wa still recogn mani peopl instant .\n",
      "\n",
      "* Text with lower case + lemmatization\n",
      "\n",
      " many people quickly became stunned saw black-clothed young man suddenly appear wall . moment later , wild joy abruptly surged . many different form address suddenly reverberated fortress . although young man appeared matured couple year , extremely familiar face wa still recognized many people instant .\n"
     ]
    }
   ],
   "source": [
    "print(\"* Examples with lower case only\\n\")\n",
    "print(word_extractorbis(\"I (LOve) to? eat cake\"))\n",
    "print(word_extractorbis(\"I love eating cake\"))\n",
    "print(word_extractorbis(\"I loved eating the cake\"))\n",
    "print(word_extractorbis(\"I do not love eating cake\"))\n",
    "\n",
    "print(\"\\n* Examples with lower case + stemming\\n\")\n",
    "print(word_extractor(\"I (LOve) to?, eat cake ?\"))\n",
    "print(word_extractor(\"I love eating cake\"))\n",
    "print(word_extractor(\"I loved eating the cake\"))\n",
    "print(word_extractor(\"I do not love eating cake\"))\n",
    "\n",
    "print(\"\\n* Examples with lower case + lemmatization\\n\")\n",
    "print(word_extractor2(\"I (LOve) to?, eat cake ?\"))\n",
    "print(word_extractor2(\"I love eating cake\"))\n",
    "print(word_extractor2(\"I loved eating the cake\"))\n",
    "print(word_extractor2(\"I do not love eating cake\"))\n",
    "\n",
    "print(\"\\n* Text with lower case only\\n\")\n",
    "print(word_extractorbis(text_1))\n",
    "\n",
    "print(\"\\n* Text with lower case + stemming\\n\")\n",
    "print(word_extractor(text_1))\n",
    "\n",
    "print(\"\\n* Text with lower case + lemmatization\\n\")\n",
    "print(word_extractor2(text_1))"
   ]
  },
  {
   "cell_type": "markdown",
   "metadata": {},
   "source": [
    "Se puede observar que el lematizador es mucho más sutil en su operación, elimiando plurales, pero manteniendo algunas conjugaciones de verbos. En general, el texto de salida del lematizador es más legible que el de stemming. Es importante notar que los signos de puntuación no son eliminados completamente de los vectores, y que cuando se eliminan las stopwords, no se considera la palabra \"not\", ya que puede cambiar completamente el sentido de una frase, y por lo tanto vale la pena mantenerla dentro de los reviews."
   ]
  },
  {
   "cell_type": "markdown",
   "metadata": {},
   "source": [
    "### d) Count Vectorizer\n",
    "\n",
    "Con los extractores de palabras implementados, debemos encontrar una representación de los reviews para usarlos en los clasificadores. En esta sección, se utilizan vectores de frecuencia de tokens (palabras), que se implementa con CountVectorizer de la librería sklearn. El primer caso es para el extractor con lematización y minúsculas.\n",
    "\n",
    "#### Lematización + eliminación de stopwords"
   ]
  },
  {
   "cell_type": "code",
   "execution_count": 56,
   "metadata": {
    "scrolled": true
   },
   "outputs": [],
   "source": [
    "import numpy as np\n",
    "from sklearn.feature_extraction.text import CountVectorizer\n",
    "\n",
    "texts_train = [word_extractor2(text) for text in train_df.Text]\n",
    "texts_test = [word_extractor2(text) for text in test_df.Text]\n",
    "vectorizer = CountVectorizer(ngram_range=(1, 1), binary='False')\n",
    "vectorizer.fit(np.asarray(texts_train))\n",
    "features_train = vectorizer.transform(texts_train)\n",
    "features_test = vectorizer.transform(texts_test)\n",
    "labels_train = np.asarray((train_df.Sentiment.astype(float)+1)/2.0)\n",
    "labels_test = np.asarray((test_df.Sentiment.astype(float)+1)/2.0)\n",
    "vocab = vectorizer.get_feature_names()\n",
    "dist=list(np.array(features_train.sum(axis=0)).reshape(-1,))"
   ]
  },
  {
   "cell_type": "code",
   "execution_count": 64,
   "metadata": {},
   "outputs": [
    {
     "name": "stdout",
     "output_type": "stream",
     "text": [
      "Vocabulary size:  9667\n"
     ]
    },
    {
     "data": {
      "image/png": "[encoded data removed]",
      "text/plain": [
       "<matplotlib.figure.Figure at 0x7f94d5ba5128>"
      ]
     },
     "metadata": {},
     "output_type": "display_data"
    }
   ],
   "source": [
    "print(\"Vocabulary size: \", len(vocab))\n",
    "plt.plot(np.arange(1,len(vocab)+1), dist)\n",
    "plt.title(\"Word histogram\")\n",
    "plt.show()"
   ]
  },
  {
   "cell_type": "code",
   "execution_count": 67,
   "metadata": {},
   "outputs": [
    {
     "data": {
      "image/png": "[encoded data removed]",
      "text/plain": [
       "<matplotlib.figure.Figure at 0x7f94d5bdde48>"
      ]
     },
     "metadata": {},
     "output_type": "display_data"
    }
   ],
   "source": [
    "i=0\n",
    "tabtag = []\n",
    "x = np.arange(30)\n",
    "distsorted = sorted(dist, reverse=True) \n",
    "distsortedindex = sorted(range(len(dist)), key=lambda k: dist[k],reverse=True)\n",
    "for count in distsortedindex:\n",
    "    tabtag.append(vocab[count]) \n",
    "    i = i+1\n",
    "\n",
    "y = distsorted[:30]\n",
    "my_xticks = tabtag\n",
    "plt.xticks(x, my_xticks,  rotation='vertical')\n",
    "plt.ylabel('Number of occurrences')\n",
    "plt.title('Lexical analysis')\n",
    "plt.plot(x, y)\n",
    "plt.show()"
   ]
  },
  {
   "cell_type": "markdown",
   "metadata": {},
   "source": [
    "El vocabulario es de 9667 palabras cuando se usa el extractor con lematización, y las palabras más frecuentes se encuentran en el gráfico anterior. Efectivamente, la palabra \"not\" aparece en tercer lugar, por lo que no considerarla como stopword tendrá un efecto significativo."
   ]
  },
  {
   "cell_type": "markdown",
   "metadata": {},
   "source": [
    "### e) Model Score\n",
    "\n",
    "La siguiente función nos permite medir el desempeño de un modelo genérico, entregando la precisión en conjuntos de entrenamiento y pruebas, y además el *classification report* de sklearn, que consiste de la precisión, recall, f1 score y soporte.\n",
    "\n",
    "La precisión corresponde a $PPV = TP / ( TP + FP)$, y describe el desempeño del clasificador en términos de la clase positiva. El recall se calcula como $TPR = TP / ( TP + FN)$, también llamado sensitividad, y mide la habilidad del clasificador para identificar la clase positiva. El $F_1$ score es la media harmónica de la precisión y el recall, y mide precisión (*accuracy*, distinto de la precisión PPV). El soporte corresponde a la cantidad de ocurrencias por cada clase."
   ]
  },
  {
   "cell_type": "code",
   "execution_count": 68,
   "metadata": {},
   "outputs": [],
   "source": [
    "from sklearn.svm import LinearSVC\n",
    "from sklearn.metrics import classification_report\n",
    "\n",
    "def score_the_model(model,x,y,xt,yt,text):\n",
    "    acc_tr = model.score(x,y)\n",
    "    acc_test = model.score(xt[:-1],yt[:-1])\n",
    "    print(\"Training Accuracy %s: %f\"%(text,acc_tr))\n",
    "    print(\"Test Accuracy %s: %f\"%(text,acc_test))\n",
    "    print(\"Detailed Analysis Testing Results ...\")\n",
    "    print(classification_report(yt, model.predict(xt), target_names=['+','-']))"
   ]
  },
  {
   "cell_type": "code",
   "execution_count": 78,
   "metadata": {},
   "outputs": [
    {
     "name": "stdout",
     "output_type": "stream",
     "text": [
      "Training Accuracy Linear SVC: 1.000000\n",
      "Test Accuracy Linear SVC: 0.715170\n",
      "Detailed Analysis Testing Results ...\n",
      "             precision    recall  f1-score   support\n",
      "\n",
      "          +       0.73      0.71      0.72      1803\n",
      "          -       0.71      0.72      0.71      1751\n",
      "\n",
      "avg / total       0.72      0.72      0.72      3554\n",
      "\n"
     ]
    }
   ],
   "source": [
    "model = LinearSVC().fit(features_train, labels_train)\n",
    "target_names = ['class 0', 'class 1']\n",
    "score_the_model(model,features_train, labels_train, features_test, labels_test,\"Linear SVC\")"
   ]
  },
  {
   "cell_type": "markdown",
   "metadata": {},
   "source": [
    "Con este ejemplo se puede observar el reporte de clasificación que se utilizará para medir el desempeño en las preguntas que siguen. Se muestran los estadísticos para cada clase, como el promedio o total. \n",
    "\n",
    "### f) Naive Bayes\n",
    "\n",
    "Usando la función anterior para medir el desempeño, se construye un clasificador Naive Bayes con la librería sklearn, el cual se entrenará con distintos conjuntos de entrenamiento, variando los extractores de palabras y la eliminación de stopwords. \n",
    "\n",
    "#### Naive Bayes - Lematización + eliminación de stopwords"
   ]
  },
  {
   "cell_type": "code",
   "execution_count": 77,
   "metadata": {},
   "outputs": [
    {
     "name": "stdout",
     "output_type": "stream",
     "text": [
      "Training Accuracy BernoulliNB: 0.958920\n",
      "Test Accuracy BernoulliNB: 0.737968\n",
      "Detailed Analysis Testing Results ...\n",
      "             precision    recall  f1-score   support\n",
      "\n",
      "          +       0.75      0.72      0.74      1803\n",
      "          -       0.73      0.75      0.74      1751\n",
      "\n",
      "avg / total       0.74      0.74      0.74      3554\n",
      "\n",
      "[ 0.85114114  0.14885886] it's lost the politics and the social observation and become just another situation romance about a couple of saps stuck in an inarticulate screenplay .\n",
      "\n",
      "[ 0.98914483  0.01085517] girlfriends are bad , wives are worse and babies are the kiss of death in this bitter italian comedy .\n",
      "\n",
      "[ 0.945893  0.054107] in the era of the sopranos , it feels painfully redundant and inauthentic .\n",
      "\n",
      "[ 0.93739969  0.06260031] don't expect any subtlety from this latest entry in the increasingly threadbare gross-out comedy cycle .\n",
      "\n",
      "[ 0.14281489  0.85718511] the far future may be awesome to consider , but from period detail to matters of the heart , this film is most transporting when it stays put in the past .\n",
      "\n",
      "[ 0.05098126  0.94901874] a comedy that is warm , inviting , and surprising .\n",
      "\n",
      "[ 0.33008659  0.66991341] once you get into its rhythm . . . the movie becomes a heady experience .\n",
      "\n",
      "[ 0.70993551  0.29006449] all the characters are clinically depressed and have abandoned their slim hopes and dreams .\n",
      "\n",
      "[ 0.63211503  0.36788497] the limited sets and small confined and dark spaces also are homages to a classic low-budget film noir movie .\n",
      "\n",
      "[ 0.54487843  0.45512157] the talk-heavy film plays like one of robert altman's lesser works .\n",
      "\n",
      "[ 0.49639492  0.50360508] trapped presents a frightening and compelling 'what if ? ' scenario that will give most parents pause . . . . then , something terrible happens .\n",
      "\n",
      "[ 0.71148835  0.28851165] juliette binoche's sand is vivacious , but it's hard to sense that powerhouse of 19th-century prose behind her childlike smile .\n",
      "\n",
      "[ 0.92833709  0.07166291] a sermonizing and lifeless paean to teenage dullards .\n",
      "\n",
      "[ 0.89636399  0.10363601] not even the hanson brothers can save it\n",
      "\n",
      "[ 0.29516037  0.70483963] an uplifting drama . . . what antwone fisher isn't , however , is original .\n",
      "\n"
     ]
    }
   ],
   "source": [
    "from sklearn.naive_bayes import BernoulliNB\n",
    "import random\n",
    "\n",
    "def do_NAIVE_BAYES(x,y,xt,yt):\n",
    "    model = BernoulliNB()\n",
    "    model = model.fit(x, y)\n",
    "    score_the_model(model,x,y,xt,yt,\"BernoulliNB\")\n",
    "    return model\n",
    "model=do_NAIVE_BAYES(features_train,labels_train,features_test,labels_test)\n",
    "test_pred = model.predict_proba(features_test)\n",
    "spl = random.sample(range(len(test_pred)), 15)\n",
    "for text, sentiment in zip(test_df.Text[spl], test_pred[spl]):\n",
    "    print(sentiment, text)"
   ]
  },
  {
   "cell_type": "markdown",
   "metadata": {},
   "source": [
    "La precisión de clasificación para Naive Bayes usando lematización y eliminación de stopwords es cercana al $0.74$. Se pueden observar algunos reviews donde el clasificador no está muy seguro de su predicción (valores cercanos a $0.5$). Notamos que aquellos reviews que no dan una opinión en sí, sino que son un resumen o sinopsis de la película, son particularmente difíciles de predecir, como en los reviews 2 y 10 de la muestra aleatoria.\n",
    "\n",
    "#### Naive Bayes - Solo Lematización "
   ]
  },
  {
   "cell_type": "code",
   "execution_count": 91,
   "metadata": {},
   "outputs": [],
   "source": [
    "texts_train = [word_extractor2(text, stop_words=False) for text in train_df.Text]\n",
    "texts_test = [word_extractor2(text, stop_words=False) for text in test_df.Text]\n",
    "vectorizer = CountVectorizer(ngram_range=(1, 1), binary='False')\n",
    "vectorizer.fit(np.asarray(texts_train))\n",
    "features_train = vectorizer.transform(texts_train)\n",
    "features_test = vectorizer.transform(texts_test)\n",
    "labels_train = np.asarray((train_df.Sentiment.astype(float)+1)/2.0)\n",
    "labels_test = np.asarray((test_df.Sentiment.astype(float)+1)/2.0)\n",
    "vocab = vectorizer.get_feature_names()\n",
    "dist=list(np.array(features_train.sum(axis=0)).reshape(-1,))"
   ]
  },
  {
   "cell_type": "code",
   "execution_count": 92,
   "metadata": {},
   "outputs": [
    {
     "name": "stdout",
     "output_type": "stream",
     "text": [
      "Vocabulary size:  9729\n"
     ]
    },
    {
     "data": {
      "image/png": "[encoded data removed]",
      "text/plain": [
       "<matplotlib.figure.Figure at 0x7f94d5913be0>"
      ]
     },
     "metadata": {},
     "output_type": "display_data"
    }
   ],
   "source": [
    "print(\"Vocabulary size: \", len(vocab))\n",
    "plt.plot(np.arange(1,len(vocab)+1), dist)\n",
    "plt.title(\"Word histogram\")\n",
    "plt.show()"
   ]
  },
  {
   "cell_type": "code",
   "execution_count": 93,
   "metadata": {},
   "outputs": [
    {
     "data": {
      "image/png": "[encoded data removed]",
      "text/plain": [
       "<matplotlib.figure.Figure at 0x7f94d5b58780>"
      ]
     },
     "metadata": {},
     "output_type": "display_data"
    }
   ],
   "source": [
    "i=0\n",
    "tabtag = []\n",
    "x = np.arange(30)\n",
    "distsorted = sorted(dist, reverse=True) \n",
    "distsortedindex = sorted(range(len(dist)), key=lambda k: dist[k],reverse=True)\n",
    "for count in distsortedindex:\n",
    "    tabtag.append(vocab[count]) \n",
    "    i = i+1\n",
    "\n",
    "y = distsorted[:30]\n",
    "my_xticks = tabtag\n",
    "plt.xticks(x, my_xticks,  rotation='vertical')\n",
    "plt.ylabel('Number of occurrences')\n",
    "plt.title('Lexical analysis')\n",
    "plt.plot(x, y)\n",
    "plt.show()"
   ]
  },
  {
   "cell_type": "markdown",
   "metadata": {},
   "source": [
    "Sin eliminar las stopwords, el vocabulario aumenta (aunque no considerablemente) y las palabras más frecuentes pasan a ser los conectores. \"film\" baja desde el primer lugar hasta el noveno, sobrepasada por las stopwords. A continuación veremos como es el desempeño de Naive Bayes para esta conjunto."
   ]
  },
  {
   "cell_type": "code",
   "execution_count": 94,
   "metadata": {},
   "outputs": [
    {
     "name": "stdout",
     "output_type": "stream",
     "text": [
      "Training Accuracy BernoulliNB: 0.955262\n",
      "Test Accuracy BernoulliNB: 0.748945\n",
      "Detailed Analysis Testing Results ...\n",
      "             precision    recall  f1-score   support\n",
      "\n",
      "          +       0.76      0.74      0.75      1803\n",
      "          -       0.74      0.76      0.75      1751\n",
      "\n",
      "avg / total       0.75      0.75      0.75      3554\n",
      "\n",
      "[ 0.98882421  0.01117579] this version of h . g . wells' time machine was directed by h . g . wells' great-grandson . they should have found orson welles' great-grandson .\n",
      "\n",
      "[ 0.93511252  0.06488748] just one more collection of penis , breast and flatulence gags in search of a story . or a profit . or some damn thing .\n",
      "\n",
      "[ 0.99869444  0.00130556] ultimately the , yes , snail-like pacing and lack of thematic resonance make the film more silly than scary , like some sort of martha stewart decorating program run amok .\n",
      "\n",
      "[ 0.22697714  0.77302286] a stylish thriller .\n",
      "\n",
      "[ 0.05828467  0.94171533] matches neorealism's impact by showing the humanity of a war-torn land filled with people who just want to live their lives .\n",
      "\n",
      "[  5.41927947e-04   9.99458072e-01] exquisitely nuanced in mood tics and dialogue , this chamber drama is superbly acted by the deeply appealing veteran bouquet and the chilling but quite human berling .\n",
      "\n",
      "[ 0.02408677  0.97591323] a dazzling thing to behold -- as long as you're wearing the somewhat cumbersome 3d goggles the theater provides .\n",
      "\n",
      "[ 0.1438988  0.8561012] samira makhmalbaf's new film blackboards is much like the ethos of a stream of consciousness , although , it's unfortunate for the viewer that the thoughts and reflections coming through are torpid and banal\n",
      "\n",
      "[ 0.02983662  0.97016338] most of crush is a clever and captivating romantic comedy with a welcome pinch of tartness .\n",
      "\n",
      "[ 0.90938696  0.09061304] while cherish doesn't completely survive its tonal transformation from dark comedy to suspense thriller , it's got just enough charm and appealing character quirks to forgive that still serious problem .\n",
      "\n",
      "[ 0.54134907  0.45865093] breen's script is sketchy with actorish notations on the margin of acting .\n",
      "\n",
      "[ 0.00266981  0.99733019] graham greene's novel of colonialism and empire is elevated by michael caine's performance as a weary journalist in a changing world .\n",
      "\n",
      "[ 0.00110291  0.99889709] a different kind of love story - one that is dark , disturbing , painful to watch , yet compelling .\n",
      "\n",
      "[ 0.79406116  0.20593884] i found it slow , predictable and not very amusing .\n",
      "\n",
      "[ 0.0929812  0.9070188] director claude chabrol has become the master of innuendo . it is not what you see , it is what you think you see .\n",
      "\n"
     ]
    }
   ],
   "source": [
    "model=do_NAIVE_BAYES(features_train,labels_train,features_test,labels_test)\n",
    "test_pred = model.predict_proba(features_test)\n",
    "spl = random.sample(range(len(test_pred)), 15)\n",
    "for text, sentiment in zip(test_df.Text[spl], test_pred[spl]):\n",
    "    print(sentiment, text)"
   ]
  },
  {
   "cell_type": "markdown",
   "metadata": {},
   "source": [
    "La precisión subió un punto porcentual aproximadamente al incluir las stopwords, aunque es necesario una validación estadística para estar realmente seguros. Si es el caso, entonces la información que contienen las stopwords es necesaria para la clasificación correcta de los reviews, aunque puede que solo sean algunas palabras claves. Para encontrar el subconjunto de palabras claves óptimo para el problema, se debe realizar validación cruzada u otro similar."
   ]
  },
  {
   "cell_type": "markdown",
   "metadata": {},
   "source": [
    "\n",
    "\n",
    "#### Naive Bayes - Solo Stemming"
   ]
  },
  {
   "cell_type": "code",
   "execution_count": 95,
   "metadata": {
    "collapsed": true
   },
   "outputs": [],
   "source": [
    "texts_train = [word_extractor(text, stop_words=False) for text in train_df.Text]\n",
    "texts_test = [word_extractor(text, stop_words=False) for text in test_df.Text]\n",
    "vectorizer = CountVectorizer(ngram_range=(1, 1), binary='False')\n",
    "vectorizer.fit(np.asarray(texts_train))\n",
    "features_train = vectorizer.transform(texts_train)\n",
    "features_test = vectorizer.transform(texts_test)\n",
    "labels_train = np.asarray((train_df.Sentiment.astype(float)+1)/2.0)\n",
    "labels_test = np.asarray((test_df.Sentiment.astype(float)+1)/2.0)\n",
    "vocab = vectorizer.get_feature_names()\n",
    "dist=list(np.array(features_train.sum(axis=0)).reshape(-1,))"
   ]
  },
  {
   "cell_type": "code",
   "execution_count": 96,
   "metadata": {},
   "outputs": [
    {
     "name": "stdout",
     "output_type": "stream",
     "text": [
      "Vocabulary size:  7989\n"
     ]
    },
    {
     "data": {
      "image/png": "[encoded data removed]",
      "text/plain": [
       "<matplotlib.figure.Figure at 0x7f94d582d390>"
      ]
     },
     "metadata": {},
     "output_type": "display_data"
    }
   ],
   "source": [
    "print(\"Vocabulary size: \", len(vocab))\n",
    "plt.plot(np.arange(1,len(vocab)+1), dist)\n",
    "plt.title(\"Word histogram\")\n",
    "plt.show()"
   ]
  },
  {
   "cell_type": "code",
   "execution_count": 97,
   "metadata": {},
   "outputs": [
    {
     "data": {
      "image/png": "[encoded data removed]",
      "text/plain": [
       "<matplotlib.figure.Figure at 0x7f94d582d198>"
      ]
     },
     "metadata": {},
     "output_type": "display_data"
    }
   ],
   "source": [
    "i=0\n",
    "tabtag = []\n",
    "x = np.arange(30)\n",
    "distsorted = sorted(dist, reverse=True) \n",
    "distsortedindex = sorted(range(len(dist)), key=lambda k: dist[k],reverse=True)\n",
    "for count in distsortedindex:\n",
    "    tabtag.append(vocab[count]) \n",
    "    i = i+1\n",
    "\n",
    "y = distsorted[:30]\n",
    "my_xticks = tabtag\n",
    "plt.xticks(x, my_xticks,  rotation='vertical')\n",
    "plt.ylabel('Number of occurrences')\n",
    "plt.title('Lexical analysis')\n",
    "plt.plot(x, y)\n",
    "plt.show()"
   ]
  },
  {
   "cell_type": "markdown",
   "metadata": {},
   "source": [
    "Con solo stemming el vocabulario disminuye considerablemente, esto ocurre porque mucho verbos que se encuentran conjugados en el texto original, se transforma a su forma infinitiva (se trunca), haciendo que todas las posibles conjugaciones se representen con un solo valor. Al igual que con lematización, las stopwords aparecen en los primeros lugares del histograma. A continuación veremos cómo se compara el desempeño de stemming con los anteriores."
   ]
  },
  {
   "cell_type": "code",
   "execution_count": 99,
   "metadata": {},
   "outputs": [
    {
     "name": "stdout",
     "output_type": "stream",
     "text": [
      "Training Accuracy BernoulliNB: 0.938661\n",
      "Test Accuracy BernoulliNB: 0.762736\n",
      "Detailed Analysis Testing Results ...\n",
      "             precision    recall  f1-score   support\n",
      "\n",
      "          +       0.77      0.76      0.77      1803\n",
      "          -       0.76      0.76      0.76      1751\n",
      "\n",
      "avg / total       0.76      0.76      0.76      3554\n",
      "\n",
      "[ 0.97818318  0.02181682] the story is also as unoriginal as they come , already having been recycled more times than i'd care to count .\n",
      "\n",
      "[ 0.75889768  0.24110232] like mike is a slight and uninventive movie : like the exalted michael jordan referred to in the title , many can aspire but none can equal .\n",
      "\n",
      "[ 0.13183502  0.86816498] one of the most exciting action films to come out of china in recent years .\n",
      "\n",
      "[ 0.91047403  0.08952597] a boring , formulaic mix of serial killers and stalk'n'slash .\n",
      "\n",
      "[ 0.89075015  0.10924985] because the intelligence level of the characters must be low , very low , very very low , for the masquerade to work , the movie contains no wit , only labored gags .\n",
      "\n",
      "[ 0.2711798  0.7288202] romanek keeps adding flourishes -- artsy fantasy sequences -- that simply feel wrong . they cheapen the overall effect .\n",
      "\n",
      "[ 0.54715995  0.45284005] blood work is laughable in the solemnity with which it tries to pump life into overworked elements from eastwood's dirty harry period .\n",
      "\n",
      "[ 0.63825442  0.36174558] an ill-conceived jumble that's not scary , not smart and not engaging .\n",
      "\n",
      "[ 0.03468693  0.96531307] although bright , well-acted and thought-provoking , tuck everlasting suffers from a laconic pace and a lack of traditional action .\n",
      "\n",
      "[ 0.01514967  0.98485033] although shot with little style , skins is heartfelt and achingly real .\n",
      "\n",
      "[ 0.97359585  0.02640415] nothing more than four or five mild chuckles surrounded by 86 minutes of overly-familiar and poorly-constructed comedy .\n",
      "\n",
      "[ 0.02975454  0.97024546] a tasty slice of droll whimsy .\n",
      "\n",
      "[ 0.24829557  0.75170443] a charmer from belgium .\n",
      "\n",
      "[ 0.96532926  0.03467074] an unfortunate title for a film that has nothing endearing about it .\n",
      "\n",
      "[ 0.00365864  0.99634136] about schmidt is undoubtedly one of the finest films of the year . if you're not deeply touched by this movie , check your pulse .\n",
      "\n"
     ]
    }
   ],
   "source": [
    "model=do_NAIVE_BAYES(features_train,labels_train,features_test,labels_test)\n",
    "test_pred = model.predict_proba(features_test)\n",
    "spl = random.sample(range(len(test_pred)), 15)\n",
    "for text, sentiment in zip(test_df.Text[spl], test_pred[spl]):\n",
    "    print(sentiment, text)"
   ]
  },
  {
   "cell_type": "markdown",
   "metadata": {},
   "source": [
    "Stemming logra el mejor resultado, con precisión de $0.76$. Nuevamente, dejar las stopwords en los reviews significó un aumento del desempeño, por lo que un estudio más profundo debe realizarse sobre cúales stopwords son claves para este problema en específico."
   ]
  },
  {
   "cell_type": "markdown",
   "metadata": {},
   "source": [
    "\n",
    "### g) SVM\n",
    "\n",
    "En esta sección, se entrenará una SVM linear para distintos valores de C. Éste parametro controla el *trade-off* entre error de clasificación y tamaño del margen de holgura para la separación óptima por hiperplano. Los valores de C son $[0.01, 0.1, 10, 100, 1000]$, y los conjuntos de entrenamiento siguen el mismo orden que en la pregunta anterior. "
   ]
  },
  {
   "cell_type": "code",
   "execution_count": 100,
   "metadata": {
    "collapsed": true
   },
   "outputs": [],
   "source": [
    "from sklearn.svm import LinearSVC\n",
    "\n",
    "def do_SVM(x,y,xt,yt):\n",
    "    Cs = [0.01,0.1,10,100,1000]\n",
    "    for C in Cs:\n",
    "        print(\"C Value: \", C)\n",
    "        model = LinearSVC(C=C)\n",
    "        model = model.fit(x, y)\n",
    "        score_the_model(model,x,y,xt,yt,\"SVM\")"
   ]
  },
  {
   "cell_type": "markdown",
   "metadata": {},
   "source": [
    "#### SVM - Lematización + eliminación de stopwords"
   ]
  },
  {
   "cell_type": "code",
   "execution_count": 101,
   "metadata": {},
   "outputs": [],
   "source": [
    "texts_train = [word_extractor2(text, stop_words=True) for text in train_df.Text]\n",
    "texts_test = [word_extractor2(text, stop_words=True) for text in test_df.Text]\n",
    "vectorizer = CountVectorizer(ngram_range=(1, 1), binary='False')\n",
    "vectorizer.fit(np.asarray(texts_train))\n",
    "features_train = vectorizer.transform(texts_train)\n",
    "features_test = vectorizer.transform(texts_test)\n",
    "labels_train = np.asarray((train_df.Sentiment.astype(float)+1)/2.0)\n",
    "labels_test = np.asarray((test_df.Sentiment.astype(float)+1)/2.0)\n",
    "vocab = vectorizer.get_feature_names()\n",
    "dist=list(np.array(features_train.sum(axis=0)).reshape(-1,))"
   ]
  },
  {
   "cell_type": "code",
   "execution_count": 103,
   "metadata": {},
   "outputs": [
    {
     "name": "stdout",
     "output_type": "stream",
     "text": [
      "C Value:  0.01\n",
      "Training Accuracy SVM: 0.885200\n",
      "Test Accuracy SVM: 0.716296\n",
      "Detailed Analysis Testing Results ...\n",
      "             precision    recall  f1-score   support\n",
      "\n",
      "          +       0.72      0.72      0.72      1803\n",
      "          -       0.71      0.71      0.71      1751\n",
      "\n",
      "avg / total       0.72      0.72      0.72      3554\n",
      "\n",
      "C Value:  0.1\n",
      "Training Accuracy SVM: 0.989871\n",
      "Test Accuracy SVM: 0.724740\n",
      "Detailed Analysis Testing Results ...\n",
      "             precision    recall  f1-score   support\n",
      "\n",
      "          +       0.73      0.72      0.73      1803\n",
      "          -       0.72      0.73      0.72      1751\n",
      "\n",
      "avg / total       0.72      0.72      0.72      3554\n",
      "\n",
      "C Value:  10\n",
      "Training Accuracy SVM: 1.000000\n",
      "Test Accuracy SVM: 0.704194\n",
      "Detailed Analysis Testing Results ...\n",
      "             precision    recall  f1-score   support\n",
      "\n",
      "          +       0.72      0.69      0.70      1803\n",
      "          -       0.69      0.72      0.70      1751\n",
      "\n",
      "avg / total       0.70      0.70      0.70      3554\n",
      "\n",
      "C Value:  100\n",
      "Training Accuracy SVM: 1.000000\n",
      "Test Accuracy SVM: 0.701379\n",
      "Detailed Analysis Testing Results ...\n",
      "             precision    recall  f1-score   support\n",
      "\n",
      "          +       0.71      0.69      0.70      1803\n",
      "          -       0.69      0.71      0.70      1751\n",
      "\n",
      "avg / total       0.70      0.70      0.70      3554\n",
      "\n",
      "C Value:  1000\n",
      "Training Accuracy SVM: 1.000000\n",
      "Test Accuracy SVM: 0.701379\n",
      "Detailed Analysis Testing Results ...\n",
      "             precision    recall  f1-score   support\n",
      "\n",
      "          +       0.71      0.69      0.70      1803\n",
      "          -       0.69      0.71      0.70      1751\n",
      "\n",
      "avg / total       0.70      0.70      0.70      3554\n",
      "\n"
     ]
    }
   ],
   "source": [
    "do_SVM(features_train,labels_train,features_test,labels_test)"
   ]
  },
  {
   "cell_type": "markdown",
   "metadata": {},
   "source": [
    "El mejor resultado ocurre para $C = 0.1$. "
   ]
  },
  {
   "cell_type": "markdown",
   "metadata": {},
   "source": [
    "#### SVM - Solo lematización"
   ]
  },
  {
   "cell_type": "code",
   "execution_count": 104,
   "metadata": {
    "collapsed": true
   },
   "outputs": [],
   "source": [
    "texts_train = [word_extractor2(text, stop_words=False) for text in train_df.Text]\n",
    "texts_test = [word_extractor2(text, stop_words=False) for text in test_df.Text]\n",
    "vectorizer = CountVectorizer(ngram_range=(1, 1), binary='False')\n",
    "vectorizer.fit(np.asarray(texts_train))\n",
    "features_train = vectorizer.transform(texts_train)\n",
    "features_test = vectorizer.transform(texts_test)\n",
    "labels_train = np.asarray((train_df.Sentiment.astype(float)+1)/2.0)\n",
    "labels_test = np.asarray((test_df.Sentiment.astype(float)+1)/2.0)\n",
    "vocab = vectorizer.get_feature_names()\n",
    "dist=list(np.array(features_train.sum(axis=0)).reshape(-1,))"
   ]
  },
  {
   "cell_type": "code",
   "execution_count": 105,
   "metadata": {},
   "outputs": [
    {
     "name": "stdout",
     "output_type": "stream",
     "text": [
      "C Value:  0.01\n",
      "Training Accuracy SVM: 0.872257\n",
      "Test Accuracy SVM: 0.718829\n",
      "Detailed Analysis Testing Results ...\n",
      "             precision    recall  f1-score   support\n",
      "\n",
      "          +       0.72      0.72      0.72      1803\n",
      "          -       0.71      0.72      0.71      1751\n",
      "\n",
      "avg / total       0.72      0.72      0.72      3554\n",
      "\n",
      "C Value:  0.1\n",
      "Training Accuracy SVM: 0.987901\n",
      "Test Accuracy SVM: 0.738531\n",
      "Detailed Analysis Testing Results ...\n",
      "             precision    recall  f1-score   support\n",
      "\n",
      "          +       0.75      0.73      0.74      1803\n",
      "          -       0.73      0.75      0.74      1751\n",
      "\n",
      "avg / total       0.74      0.74      0.74      3554\n",
      "\n",
      "C Value:  10\n",
      "Training Accuracy SVM: 1.000000\n",
      "Test Accuracy SVM: 0.715170\n",
      "Detailed Analysis Testing Results ...\n",
      "             precision    recall  f1-score   support\n",
      "\n",
      "          +       0.73      0.69      0.71      1803\n",
      "          -       0.70      0.74      0.72      1751\n",
      "\n",
      "avg / total       0.72      0.72      0.72      3554\n",
      "\n",
      "C Value:  100\n",
      "Training Accuracy SVM: 1.000000\n",
      "Test Accuracy SVM: 0.712356\n",
      "Detailed Analysis Testing Results ...\n",
      "             precision    recall  f1-score   support\n",
      "\n",
      "          +       0.73      0.69      0.71      1803\n",
      "          -       0.70      0.74      0.72      1751\n",
      "\n",
      "avg / total       0.71      0.71      0.71      3554\n",
      "\n",
      "C Value:  1000\n",
      "Training Accuracy SVM: 1.000000\n",
      "Test Accuracy SVM: 0.712356\n",
      "Detailed Analysis Testing Results ...\n",
      "             precision    recall  f1-score   support\n",
      "\n",
      "          +       0.73      0.69      0.71      1803\n",
      "          -       0.70      0.74      0.72      1751\n",
      "\n",
      "avg / total       0.71      0.71      0.71      3554\n",
      "\n"
     ]
    }
   ],
   "source": [
    "do_SVM(features_train,labels_train,features_test,labels_test)"
   ]
  },
  {
   "cell_type": "markdown",
   "metadata": {},
   "source": [
    "Nuevamente, el mejor resultado lo obtiene $C = 0.1$, pero se observa una mejora en la precisión respecto del caso anterior. Entonces, nos encontramos con la misma situación que para Naive Bayes, donde agregar las stopwords mejora el desempeño."
   ]
  },
  {
   "cell_type": "markdown",
   "metadata": {},
   "source": [
    "#### SVM - Solo stemming"
   ]
  },
  {
   "cell_type": "code",
   "execution_count": 106,
   "metadata": {
    "collapsed": true
   },
   "outputs": [],
   "source": [
    "texts_train = [word_extractor(text, stop_words=False) for text in train_df.Text]\n",
    "texts_test = [word_extractor(text, stop_words=False) for text in test_df.Text]\n",
    "vectorizer = CountVectorizer(ngram_range=(1, 1), binary='False')\n",
    "vectorizer.fit(np.asarray(texts_train))\n",
    "features_train = vectorizer.transform(texts_train)\n",
    "features_test = vectorizer.transform(texts_test)\n",
    "labels_train = np.asarray((train_df.Sentiment.astype(float)+1)/2.0)\n",
    "labels_test = np.asarray((test_df.Sentiment.astype(float)+1)/2.0)\n",
    "vocab = vectorizer.get_feature_names()\n",
    "dist=list(np.array(features_train.sum(axis=0)).reshape(-1,))"
   ]
  },
  {
   "cell_type": "code",
   "execution_count": 107,
   "metadata": {},
   "outputs": [
    {
     "name": "stdout",
     "output_type": "stream",
     "text": [
      "C Value:  0.01\n",
      "Training Accuracy SVM: 0.868317\n",
      "Test Accuracy SVM: 0.729806\n",
      "Detailed Analysis Testing Results ...\n",
      "             precision    recall  f1-score   support\n",
      "\n",
      "          +       0.73      0.74      0.74      1803\n",
      "          -       0.73      0.72      0.72      1751\n",
      "\n",
      "avg / total       0.73      0.73      0.73      3554\n",
      "\n",
      "C Value:  0.1\n",
      "Training Accuracy SVM: 0.982836\n",
      "Test Accuracy SVM: 0.739657\n",
      "Detailed Analysis Testing Results ...\n",
      "             precision    recall  f1-score   support\n",
      "\n",
      "          +       0.74      0.74      0.74      1803\n",
      "          -       0.73      0.74      0.74      1751\n",
      "\n",
      "avg / total       0.74      0.74      0.74      3554\n",
      "\n",
      "C Value:  10\n",
      "Training Accuracy SVM: 1.000000\n",
      "Test Accuracy SVM: 0.718266\n",
      "Detailed Analysis Testing Results ...\n",
      "             precision    recall  f1-score   support\n",
      "\n",
      "          +       0.73      0.70      0.72      1803\n",
      "          -       0.71      0.73      0.72      1751\n",
      "\n",
      "avg / total       0.72      0.72      0.72      3554\n",
      "\n",
      "C Value:  100\n",
      "Training Accuracy SVM: 1.000000\n",
      "Test Accuracy SVM: 0.714044\n",
      "Detailed Analysis Testing Results ...\n",
      "             precision    recall  f1-score   support\n",
      "\n",
      "          +       0.73      0.70      0.71      1803\n",
      "          -       0.70      0.73      0.72      1751\n",
      "\n",
      "avg / total       0.71      0.71      0.71      3554\n",
      "\n",
      "C Value:  1000\n",
      "Training Accuracy SVM: 1.000000\n",
      "Test Accuracy SVM: 0.712919\n",
      "Detailed Analysis Testing Results ...\n",
      "             precision    recall  f1-score   support\n",
      "\n",
      "          +       0.72      0.70      0.71      1803\n",
      "          -       0.70      0.73      0.71      1751\n",
      "\n",
      "avg / total       0.71      0.71      0.71      3554\n",
      "\n"
     ]
    }
   ],
   "source": [
    "do_SVM(features_train,labels_train,features_test,labels_test)"
   ]
  },
  {
   "cell_type": "markdown",
   "metadata": {},
   "source": [
    "Finalmente, cuando se hace stemming se obtiene el mejor desempeño para $C = 0.1$, pero esta vez no supera "
   ]
  }
 ],
 "metadata": {
  "kernelspec": {
   "display_name": "Python 3",
   "language": "python",
   "name": "python3"
  },
  "language_info": {
   "codemirror_mode": {
    "name": "ipython",
    "version": 3
   },
   "file_extension": ".py",
   "mimetype": "text/x-python",
   "name": "python",
   "nbconvert_exporter": "python",
   "pygments_lexer": "ipython3",
   "version": "3.5.2"
  }
 },
 "nbformat": 4,
 "nbformat_minor": 2
}
